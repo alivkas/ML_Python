{
  "cells": [
    {
      "cell_type": "markdown",
      "metadata": {
        "id": "M-DGa20PaHnu"
      },
      "source": [
        "# Задача 1\n",
        "Написать функцию на вход которой подается строка, состоящая из латинских букв.\n",
        "Функция должна вернуть количество гласных букв (a, e, i, o, u) в этой строке. Написать тесты для кода"
      ]
    },
    {
      "cell_type": "code",
      "execution_count": 11,
      "metadata": {
        "id": "XvX8X_JJ6PCb"
      },
      "outputs": [],
      "source": [
        "def count_vowels(string):\n",
        "    vowels = \"aeiouAEIOU\"\n",
        "    count = 0\n",
        "    for char in string:\n",
        "        if char in vowels:\n",
        "            count += 1\n",
        "    return count\n",
        "\n",
        "\n",
        "def test_count_vowels():\n",
        "    assert count_vowels(\"hello\") == 2\n",
        "    assert count_vowels(\"mmm\") == 0\n",
        "    assert count_vowels(\"AEIOU\") == 5\n",
        "    assert count_vowels(\"\") == 0\n",
        "\n",
        "test_count_vowels()"
      ]
    },
    {
      "cell_type": "markdown",
      "metadata": {
        "id": "t2ClV_Y0bbr6"
      },
      "source": [
        "# Задача 2\n",
        "Написать функцию на вход, которой подается строка. Функция должна вернуть true, если\n",
        "каждый символ в строке встречается только 1 раз, иначе должна вернуть false. Написать тесты для кода"
      ]
    },
    {
      "cell_type": "code",
      "execution_count": 14,
      "metadata": {
        "id": "FppbECao6VIz"
      },
      "outputs": [],
      "source": [
        "def check_unique_chars(string):\n",
        "    char_count = {}\n",
        "    for char in string:\n",
        "        if char in char_count:\n",
        "            return False\n",
        "        char_count[char] = 1\n",
        "    return True\n",
        "\n",
        "def test_check_unique_chars():\n",
        "    assert check_unique_chars(\"abbcdee\") == False\n",
        "    assert check_unique_chars(\"hello\") == False\n",
        "    assert check_unique_chars(\"world\") == True\n",
        "    assert check_unique_chars(\"Python\") == True\n",
        "    assert check_unique_chars(\"\") == True\n",
        "\n",
        "test_check_unique_chars()"
      ]
    },
    {
      "cell_type": "markdown",
      "metadata": {
        "id": "udRiIK1cdt6E"
      },
      "source": [
        "# Задача 3\n",
        "Написать функцию, которая принимает положительное число и возвращает количество\n",
        "бит равных 1 в этом числе. Написать тесты для кода"
      ]
    },
    {
      "cell_type": "code",
      "execution_count": 23,
      "metadata": {
        "id": "6tkfDJRz6dp_"
      },
      "outputs": [],
      "source": [
        "def count_bits(num):\n",
        "    if num <= 0:\n",
        "        raise Exception(\"Отрицательное число\")\n",
        "    count = 0\n",
        "    while num:\n",
        "        count += num & 1\n",
        "        num >>= 1\n",
        "    return count\n",
        "\n",
        "def test_count_set_bits():\n",
        "    assert count_bits(5) == 2\n",
        "    assert count_bits(10) == 2\n",
        "    assert count_bits(15) == 4\n",
        "    assert count_bits(255) == 8\n",
        "\n",
        "test_count_set_bits()"
      ]
    },
    {
      "cell_type": "markdown",
      "metadata": {
        "id": "26dDUz-Ae17N"
      },
      "source": [
        "# Задача 4\n",
        "Написать функцию, которая принимает положительное число. Функция должна вернуть то,\n",
        "сколько раз необходимо перемножать цифры числа или результат перемножения, чтобы\n",
        "получилось число состоящее из одной цифры.\n",
        "Например, для входного числа:\n",
        "· 39 функция должна вернуть 3, так как 3*9=27 => 2*7=14 => 1*4=4\n",
        "· 4 функция должна вернуть 0, так как число уже состоит из одной цифры\n",
        "· 999 функция должна вернуть 4, так как 9*9*9=729 => 7*2*9=126 => 1*2*6=12 =>\n",
        "1*2=2. Написать тесты для кода"
      ]
    },
    {
      "cell_type": "code",
      "execution_count": 35,
      "metadata": {
        "id": "BH1A_Mgi6i4G"
      },
      "outputs": [],
      "source": [
        "def magic(n):\n",
        "    if n <= 0:\n",
        "        raise Exception(\"Отрицательное число\")\n",
        "    count = 0\n",
        "    while n >= 10:\n",
        "        result = 1\n",
        "        while n:\n",
        "            result *= n % 10\n",
        "            n //= 10\n",
        "        n = result\n",
        "        count += 1\n",
        "    return count\n",
        "\n",
        "def test_magic():\n",
        "    assert magic(39) == 3\n",
        "    assert magic(4) == 0\n",
        "    assert magic(999) == 4\n",
        "\n",
        "test_magic()"
      ]
    },
    {
      "cell_type": "markdown",
      "metadata": {
        "id": "0nS-kIa8g8vd"
      },
      "source": [
        "# Задача 5\n",
        "Написать функцию, которая принимает два целочисленных вектора одинаковой длины и\n",
        "возвращает среднеквадратическое отклонение двух векторов. Написать тесты для кода"
      ]
    },
    {
      "cell_type": "code",
      "execution_count": 31,
      "metadata": {
        "id": "8iphx4LM6xbx"
      },
      "outputs": [],
      "source": [
        "import math\n",
        "\n",
        "def mse(pred, true):\n",
        "    if len(pred) != len(true):\n",
        "        return \"Векторы должны быть одинаковой длины\"\n",
        "    \n",
        "    n = len(pred)\n",
        "    sum_of_squares = sum((pred[i] - true[i])**2 for i in range(n))\n",
        "    mean_squared_diff = sum_of_squares / n\n",
        "    standard_deviation = math.sqrt(mean_squared_diff)\n",
        "    \n",
        "    return standard_deviation\n",
        "\n",
        "def test_mse():\n",
        "    assert mse([1, 2, 3], [4, 5, 6]) == 3.0\n",
        "    assert mse([0, 0, 0], [0, 0, 0]) == 0.0\n",
        "    assert mse([1, 2, 3], [1, 2, 3]) == 0.0\n",
        "    assert mse([1, 2, 3], [4, 5]) == \"Векторы должны быть одинаковой длины\"\n",
        "\n",
        "test_mse()"
      ]
    },
    {
      "cell_type": "markdown",
      "metadata": {
        "id": "vpIPKL439zkw"
      },
      "source": [
        "# Задача 6\n",
        "Написать функцию, принимающая целое положительное число. Функция должна вернуть\n",
        "строку вида “(n1**p1)(n2**p2)…(nk**pk)” представляющая разложение числа на простые\n",
        "множители (если pi == 1, то выводить только ni).\n",
        "Например, для числа 86240 функция должна вернуть “(2**5)(5)(7**2)(11)”. Написать тесты для кода"
      ]
    },
    {
      "cell_type": "code",
      "execution_count": 37,
      "metadata": {
        "id": "pFebmcZk94Jw"
      },
      "outputs": [],
      "source": [
        "def prime_factors(n: int):\n",
        "    if n <= 0:\n",
        "        raise Exception(\"Число отрицательное\")\n",
        "    factors = []\n",
        "    divisor = 2\n",
        "    while n > 1:\n",
        "        count = 0\n",
        "        while n % divisor == 0:\n",
        "            count += 1\n",
        "            n = n // divisor\n",
        "        if count > 0:\n",
        "            factors.append((divisor, count) if count > 1 else (divisor,))\n",
        "        divisor += 1\n",
        "        if divisor * divisor > n:\n",
        "            if n > 1:\n",
        "                factors.append((n,))\n",
        "            break\n",
        "    return factors\n",
        "\n",
        "def factorize_number(n):\n",
        "    prime_factors_list = prime_factors(n)\n",
        "    result = \"\"\n",
        "    for factor in prime_factors_list:\n",
        "        if len(factor) == 1:\n",
        "            result += f\"({factor[0]})\"\n",
        "        else:\n",
        "            result += f\"({factor[0]}**{factor[1]})\"\n",
        "    return result\n",
        "\n",
        "def test_factorize_number():\n",
        "    assert factorize_number(86240) == \"(2**5)(5)(7**2)(11)\"\n",
        "    assert factorize_number(10) == \"(2)(5)\"\n",
        "    assert factorize_number(100) == \"(2**2)(5**2)\"\n",
        "    assert factorize_number(1) == \"\"\n",
        "    assert factorize_number(7) == \"(7)\"\n",
        "\n",
        "test_factorize_number()"
      ]
    },
    {
      "cell_type": "markdown",
      "metadata": {
        "id": "ps2s0BudX7A2"
      },
      "source": [
        "# Задача 7\n",
        "Написать функцию, принимающая целое число n, задающее количество кубиков. Функция\n",
        "должна определить, можно ли из данного кол-ва кубиков построить пирамиду, то есть\n",
        "можно ли представить число n как 1^2+2^2+3^2+…+k^2. Если можно, то функция должна\n",
        "вернуть k, иначе строку “It is impossible”. Написать тесты для кода"
      ]
    },
    {
      "cell_type": "code",
      "execution_count": 46,
      "metadata": {
        "id": "3YPjEXxhX_YT"
      },
      "outputs": [],
      "source": [
        "def pyramid(number: int):\n",
        "    total = 0\n",
        "    k = 1\n",
        "    while total < number:\n",
        "        total += k**2\n",
        "        if total == number:\n",
        "            return k\n",
        "        k += 1\n",
        "    return \"It is impossible\"\n",
        "\n",
        "def test_pyramid():\n",
        "    assert pyramid(1) == 1\n",
        "    assert pyramid(5) == 2\n",
        "    assert pyramid(12) == \"It is impossible\"\n",
        "    assert pyramid(30) == 4\n",
        "    assert pyramid(55) == 5\n",
        "\n",
        "test_pyramid()"
      ]
    },
    {
      "cell_type": "markdown",
      "metadata": {
        "id": "KeKgmIdAQMEJ"
      },
      "source": [
        "# Задача 8\n",
        "Функция принимает на вход положительное число и определяет является ли оно сбалансированным, т.е. сумма цифр до средних равна сумме цифр после. Средними в случае нечетного числа цифр считать одну цифру, в случае четного - две средних. Написать тесты для кода"
      ]
    },
    {
      "cell_type": "code",
      "execution_count": 50,
      "metadata": {
        "id": "gMAAqtqlQrZt"
      },
      "outputs": [],
      "source": [
        "def is_balanced_number(n):\n",
        "    n_str = str(n)\n",
        "    length = len(n_str)\n",
        "    \n",
        "    if length % 2 == 0:\n",
        "        left_sum = sum(map(int, n_str[:length//2]))\n",
        "        right_sum = sum(map(int, n_str[length//2:]))\n",
        "    else:\n",
        "        left_sum = sum(map(int, n_str[:length//2]))\n",
        "        right_sum = sum(map(int, n_str[length//2+1:]))\n",
        "    \n",
        "    return left_sum == right_sum\n",
        "\n",
        "def test_is_balanced_number():\n",
        "    assert is_balanced_number(12321) == True\n",
        "    assert is_balanced_number(12345) == False\n",
        "    assert is_balanced_number(123456) == False\n",
        "\n",
        "test_is_balanced_number()"
      ]
    }
  ],
  "metadata": {
    "colab": {
      "provenance": []
    },
    "kernelspec": {
      "display_name": "Python 3",
      "name": "python3"
    },
    "language_info": {
      "codemirror_mode": {
        "name": "ipython",
        "version": 3
      },
      "file_extension": ".py",
      "mimetype": "text/x-python",
      "name": "python",
      "nbconvert_exporter": "python",
      "pygments_lexer": "ipython3",
      "version": "3.11.5"
    }
  },
  "nbformat": 4,
  "nbformat_minor": 0
}
